{
  "nbformat": 4,
  "nbformat_minor": 0,
  "metadata": {
    "colab": {
      "name": "Mercuries.ai-Aptiv-Demo-2020-12-28-v1",
      "provenance": [],
      "collapsed_sections": [],
      "authorship_tag": "ABX9TyO+CVtfa10OtaMYs+h8N8yg",
      "include_colab_link": true
    },
    "kernelspec": {
      "name": "python3",
      "display_name": "Python 3"
    }
  },
  "cells": [
    {
      "cell_type": "markdown",
      "metadata": {
        "id": "view-in-github",
        "colab_type": "text"
      },
      "source": [
        "<a href=\"https://colab.research.google.com/github/richtong/CarND-LaneLines-P1/blob/rich-run/Mercuries_ai_Aptiv_Demo_2020_12_28_v1.ipynb\" target=\"_parent\"><img src=\"https://colab.research.google.com/assets/colab-badge.svg\" alt=\"Open In Colab\"/></a>"
      ]
    },
    {
      "cell_type": "markdown",
      "metadata": {
        "id": "BwQD57agMvLU"
      },
      "source": [
        "## Mercuries.ai Demonstration of Aptiv Fleet Monitoring Data Analysis\n",
        "\n",
        "This example loads data from BigQuery and shows how a data scientist can analyze the data for further use in a Machine Learning pipeline"
      ]
    },
    {
      "cell_type": "code",
      "metadata": {
        "colab": {
          "base_uri": "https://localhost:8080/"
        },
        "id": "kv-ZJYmTM8dR",
        "outputId": "7bb6993d-7b99-42cb-ca69-1f049711f93a"
      },
      "source": [
        "# https://cloud.google.com/bigquery/docs/visualize-jupyter\n",
        "# https://tech.aaronteoh.com/bigquery-colaboratory-basics/\n",
        "# https://colab.research.google.com/notebooks/bigquery.ipynb\n",
        "\n",
        "# provide credentials\n",
        "from google.colab import auth\n",
        "print('Please use your Mercuries account')\n",
        "auth.authenticate_user()\n",
        "print('Authenticated')\n",
        "\n",
        "# Enable display of large pandas frames\n",
        "%load_ext google.colab.data_table"
      ],
      "execution_count": null,
      "outputs": [
        {
          "output_type": "stream",
          "text": [
            "Please use your Mercuries account\n",
            "Authenticated\n"
          ],
          "name": "stdout"
        }
      ]
    },
    {
      "cell_type": "markdown",
      "metadata": {
        "id": "YcxnLwMvOBwj"
      },
      "source": [
        "# Importing data from BigQuery\n",
        "This is an easy operating with the [BigQuery](https://cloud.google.com/bigquery/) library so you can run any SQL command and do a live import into this notebook."
      ]
    },
    {
      "cell_type": "code",
      "metadata": {
        "id": "Dt2rSUzyON-a",
        "colab": {
          "base_uri": "https://localhost:8080/",
          "height": 617
        },
        "outputId": "a309a480-d810-4c35-969b-33d8b57c2a6a"
      },
      "source": [
        "# Example that is just printing\n",
        "%%bigquery --project modified-tome-296423\n",
        "SELECT * \n",
        "  FROM modified-tome-296423.frankendemo_obd.frankendemo_obd\n",
        "  WHERE franken_demo_user = \"Rich1\" OR franken_demo_user = \"Rich2\"\n",
        "  ORDER BY timestamp desc; "
      ],
      "execution_count": 7,
      "outputs": [
        {
          "output_type": "execute_result",
          "data": {
            "text/html": [
              "<div>\n",
              "<style scoped>\n",
              "    .dataframe tbody tr th:only-of-type {\n",
              "        vertical-align: middle;\n",
              "    }\n",
              "\n",
              "    .dataframe tbody tr th {\n",
              "        vertical-align: top;\n",
              "    }\n",
              "\n",
              "    .dataframe thead th {\n",
              "        text-align: right;\n",
              "    }\n",
              "</style>\n",
              "<table border=\"1\" class=\"dataframe\">\n",
              "  <thead>\n",
              "    <tr style=\"text-align: right;\">\n",
              "      <th></th>\n",
              "      <th>timestamp</th>\n",
              "      <th>pid</th>\n",
              "      <th>label</th>\n",
              "      <th>value</th>\n",
              "      <th>type</th>\n",
              "      <th>units</th>\n",
              "      <th>franken_obd_version</th>\n",
              "      <th>franken_demo_version</th>\n",
              "      <th>franken_demo_install</th>\n",
              "      <th>franken_demo_user</th>\n",
              "    </tr>\n",
              "  </thead>\n",
              "  <tbody>\n",
              "    <tr>\n",
              "      <th>0</th>\n",
              "      <td>2020-12-24 02:29:29.517000+00:00</td>\n",
              "      <td>76</td>\n",
              "      <td>Comm. Throttle Actuator Cntrl</td>\n",
              "      <td>8.627451</td>\n",
              "      <td>Float</td>\n",
              "      <td>%</td>\n",
              "      <td>v11</td>\n",
              "      <td>v15</td>\n",
              "      <td>0069B553</td>\n",
              "      <td>Rich2</td>\n",
              "    </tr>\n",
              "    <tr>\n",
              "      <th>1</th>\n",
              "      <td>2020-12-24 02:29:29.446000+00:00</td>\n",
              "      <td>74</td>\n",
              "      <td>Accelerator Pedal Position E</td>\n",
              "      <td>12.941176</td>\n",
              "      <td>Float</td>\n",
              "      <td>%</td>\n",
              "      <td>v11</td>\n",
              "      <td>v15</td>\n",
              "      <td>0069B553</td>\n",
              "      <td>Rich2</td>\n",
              "    </tr>\n",
              "    <tr>\n",
              "      <th>2</th>\n",
              "      <td>2020-12-24 02:29:29.357000+00:00</td>\n",
              "      <td>-1</td>\n",
              "      <td>MESSAGES_PER_SECOND</td>\n",
              "      <td>11.872146118721462</td>\n",
              "      <td>Double</td>\n",
              "      <td>MESSAGES_PER_SECOND</td>\n",
              "      <td>v11</td>\n",
              "      <td>v15</td>\n",
              "      <td>0069B553</td>\n",
              "      <td>Rich2</td>\n",
              "    </tr>\n",
              "    <tr>\n",
              "      <th>3</th>\n",
              "      <td>2020-12-24 02:29:29.357000+00:00</td>\n",
              "      <td>-1</td>\n",
              "      <td>DATA_ITEMS_PER_SECOND</td>\n",
              "      <td>22.831050228310502</td>\n",
              "      <td>Double</td>\n",
              "      <td>DATA_ITEMS_PER_SECOND</td>\n",
              "      <td>v11</td>\n",
              "      <td>v15</td>\n",
              "      <td>0069B553</td>\n",
              "      <td>Rich2</td>\n",
              "    </tr>\n",
              "    <tr>\n",
              "      <th>4</th>\n",
              "      <td>2020-12-24 02:29:29.356000+00:00</td>\n",
              "      <td>73</td>\n",
              "      <td>Accelerator Pedal Position D</td>\n",
              "      <td>13.333333</td>\n",
              "      <td>Float</td>\n",
              "      <td>%</td>\n",
              "      <td>v11</td>\n",
              "      <td>v15</td>\n",
              "      <td>0069B553</td>\n",
              "      <td>Rich2</td>\n",
              "    </tr>\n",
              "    <tr>\n",
              "      <th>...</th>\n",
              "      <td>...</td>\n",
              "      <td>...</td>\n",
              "      <td>...</td>\n",
              "      <td>...</td>\n",
              "      <td>...</td>\n",
              "      <td>...</td>\n",
              "      <td>...</td>\n",
              "      <td>...</td>\n",
              "      <td>...</td>\n",
              "      <td>...</td>\n",
              "    </tr>\n",
              "    <tr>\n",
              "      <th>26425</th>\n",
              "      <td>2020-12-22 19:48:59.264000+00:00</td>\n",
              "      <td>1</td>\n",
              "      <td>A/C refrigerant test status</td>\n",
              "      <td>0</td>\n",
              "      <td>Long</td>\n",
              "      <td></td>\n",
              "      <td>v10</td>\n",
              "      <td>v14</td>\n",
              "      <td>0059A4B0</td>\n",
              "      <td>Rich1</td>\n",
              "    </tr>\n",
              "    <tr>\n",
              "      <th>26426</th>\n",
              "      <td>2020-12-22 19:48:59.264000+00:00</td>\n",
              "      <td>1</td>\n",
              "      <td>Secondary air sys test status</td>\n",
              "      <td>0</td>\n",
              "      <td>Long</td>\n",
              "      <td></td>\n",
              "      <td>v10</td>\n",
              "      <td>v14</td>\n",
              "      <td>0059A4B0</td>\n",
              "      <td>Rich1</td>\n",
              "    </tr>\n",
              "    <tr>\n",
              "      <th>26427</th>\n",
              "      <td>2020-12-22 19:48:59.264000+00:00</td>\n",
              "      <td>1</td>\n",
              "      <td>Evaporative system test status</td>\n",
              "      <td>257</td>\n",
              "      <td>Long</td>\n",
              "      <td></td>\n",
              "      <td>v10</td>\n",
              "      <td>v14</td>\n",
              "      <td>0059A4B0</td>\n",
              "      <td>Rich1</td>\n",
              "    </tr>\n",
              "    <tr>\n",
              "      <th>26428</th>\n",
              "      <td>2020-12-22 19:48:59.264000+00:00</td>\n",
              "      <td>1</td>\n",
              "      <td>Oxygen Sensor Heater test status</td>\n",
              "      <td>256</td>\n",
              "      <td>Long</td>\n",
              "      <td></td>\n",
              "      <td>v10</td>\n",
              "      <td>v14</td>\n",
              "      <td>0059A4B0</td>\n",
              "      <td>Rich1</td>\n",
              "    </tr>\n",
              "    <tr>\n",
              "      <th>26429</th>\n",
              "      <td>2020-12-22 19:48:59.264000+00:00</td>\n",
              "      <td>1</td>\n",
              "      <td>Heated Cat / Nox Monitor test status</td>\n",
              "      <td>0</td>\n",
              "      <td>Long</td>\n",
              "      <td></td>\n",
              "      <td>v10</td>\n",
              "      <td>v14</td>\n",
              "      <td>0059A4B0</td>\n",
              "      <td>Rich1</td>\n",
              "    </tr>\n",
              "  </tbody>\n",
              "</table>\n",
              "<p>26430 rows × 10 columns</p>\n",
              "</div>"
            ],
            "text/plain": [
              "                             timestamp  ...  franken_demo_user\n",
              "0     2020-12-24 02:29:29.517000+00:00  ...              Rich2\n",
              "1     2020-12-24 02:29:29.446000+00:00  ...              Rich2\n",
              "2     2020-12-24 02:29:29.357000+00:00  ...              Rich2\n",
              "3     2020-12-24 02:29:29.357000+00:00  ...              Rich2\n",
              "4     2020-12-24 02:29:29.356000+00:00  ...              Rich2\n",
              "...                                ...  ...                ...\n",
              "26425 2020-12-22 19:48:59.264000+00:00  ...              Rich1\n",
              "26426 2020-12-22 19:48:59.264000+00:00  ...              Rich1\n",
              "26427 2020-12-22 19:48:59.264000+00:00  ...              Rich1\n",
              "26428 2020-12-22 19:48:59.264000+00:00  ...              Rich1\n",
              "26429 2020-12-22 19:48:59.264000+00:00  ...              Rich1\n",
              "\n",
              "[26430 rows x 10 columns]"
            ]
          },
          "metadata": {
            "tags": []
          },
          "execution_count": 7
        }
      ]
    },
    {
      "cell_type": "code",
      "metadata": {
        "id": "C0NVm5xAY2R0"
      },
      "source": [
        "# Example putting it into a Pandas dataframe by adding a thrid argument\n",
        "%%bigquery --project "
      ],
      "execution_count": null,
      "outputs": []
    }
  ]
}